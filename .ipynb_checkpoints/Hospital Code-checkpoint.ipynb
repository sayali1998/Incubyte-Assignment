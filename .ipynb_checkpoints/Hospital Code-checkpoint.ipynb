{
 "cells": [
  {
   "cell_type": "code",
   "execution_count": 14,
   "id": "2ee4d9c8",
   "metadata": {},
   "outputs": [],
   "source": [
    "import mysql.connector\n",
    "import pandas as pd"
   ]
  },
  {
   "cell_type": "code",
   "execution_count": 15,
   "id": "18826c0d",
   "metadata": {},
   "outputs": [],
   "source": [
    "mydb = mysql.connector.connect(\n",
    "    host = \"localhost\",\n",
    "    user = \"incubyte\",\n",
    "    password = \"123456\"\n",
    ")"
   ]
  },
  {
   "cell_type": "code",
   "execution_count": 16,
   "id": "8374eba3",
   "metadata": {},
   "outputs": [
    {
     "name": "stdout",
     "output_type": "stream",
     "text": [
      "All existing database: [('hospital',), ('information_schema',), ('mysql',), ('performance_schema',), ('sakila',), ('sys',), ('world',)]\n"
     ]
    }
   ],
   "source": [
    "cursor = mydb.cursor()\n",
    "\n",
    "database = \"hospital\"\n",
    "_SQL = \"\"\"SHOW DATABASES\"\"\"\n",
    "cursor.execute(_SQL)\n",
    "results = cursor.fetchall()\n",
    "\n",
    "print('All existing database:', results)\n",
    "\n",
    "results_list = [item[0] for item in results] \n",
    "\n",
    "if database not in results_list:\n",
    "    _createDatabase = \"CREATE DATABASE hospital\"\n",
    "    cursor.execute(_createDatabase)\n",
    "    _createTable = \"CREATE TABLE hospital.patients (Name varchar(255) NOT NULL, cust_ID varchar(18) NOT NULL PRIMARY KEY,open_dt date NOT NULL,last_dt date NOT NULL,vacc_type char(5),doctor_con char(225),state char(5),country char(5),dob date,active_cust char(1))\"\n",
    "    cursor.execute(_createTable)\n",
    "    source_data = pd.read_csv(\"Patients_Source.csv\")\n",
    "    sql = \"INSERT INTO hospital.patients (Name, cust_ID,open_dt,last_dt,vacc_type,doctor_con,state,country,dob,active_cust) VALUES (%s, %s,%s, %s,%s, %s,%s, %s,%s, %s)\"\n",
    "    for index, row in source_data.iterrows():\n",
    "        val = (row['Name'],row['Cust_I'],row['Open_Dt'],row['Consul_dt'],row['Vacc_ID'],row['DR_Name'],row['State'],row['Country'],row['DOB'],row['Is_Active'])\n",
    "        cursor.execute(sql, val)"
   ]
  },
  {
   "cell_type": "code",
   "execution_count": 17,
   "id": "925b1e37",
   "metadata": {},
   "outputs": [],
   "source": [
    "cursor.execute(\"Select * from hospital.patients\")"
   ]
  },
  {
   "cell_type": "code",
   "execution_count": 20,
   "id": "4591d960",
   "metadata": {},
   "outputs": [],
   "source": [
    "for patient_details in cursor:\n",
    "    print(patient_details)"
   ]
  },
  {
   "cell_type": "code",
   "execution_count": 13,
   "id": "9a19551b",
   "metadata": {},
   "outputs": [
    {
     "ename": "OperationalError",
     "evalue": "2055: Lost connection to MySQL server at 'localhost:3306', system error: Connection not available.",
     "output_type": "error",
     "traceback": [
      "\u001b[1;31m---------------------------------------------------------------------------\u001b[0m",
      "\u001b[1;31mAttributeError\u001b[0m                            Traceback (most recent call last)",
      "\u001b[1;32mc:\\users\\sayal\\appdata\\local\\programs\\python\\python37\\lib\\site-packages\\mysql\\connector\\connection_cext.py\u001b[0m in \u001b[0;36mcmd_query\u001b[1;34m(self, query, raw, buffered, raw_as_string)\u001b[0m\n\u001b[0;32m    514\u001b[0m             \u001b[1;32mif\u001b[0m \u001b[1;32mnot\u001b[0m \u001b[0misinstance\u001b[0m\u001b[1;33m(\u001b[0m\u001b[0mquery\u001b[0m\u001b[1;33m,\u001b[0m \u001b[0mbytes\u001b[0m\u001b[1;33m)\u001b[0m\u001b[1;33m:\u001b[0m\u001b[1;33m\u001b[0m\u001b[1;33m\u001b[0m\u001b[0m\n\u001b[1;32m--> 515\u001b[1;33m                 \u001b[0mquery\u001b[0m \u001b[1;33m=\u001b[0m \u001b[0mquery\u001b[0m\u001b[1;33m.\u001b[0m\u001b[0mencode\u001b[0m\u001b[1;33m(\u001b[0m\u001b[1;34m'utf-8'\u001b[0m\u001b[1;33m)\u001b[0m\u001b[1;33m\u001b[0m\u001b[1;33m\u001b[0m\u001b[0m\n\u001b[0m\u001b[0;32m    516\u001b[0m             self._cmysql.query(query,\n",
      "\u001b[1;31mAttributeError\u001b[0m: 'tuple' object has no attribute 'encode'",
      "\nDuring handling of the above exception, another exception occurred:\n",
      "\u001b[1;31mOperationalError\u001b[0m                          Traceback (most recent call last)",
      "\u001b[1;32m~\\AppData\\Local\\Temp/ipykernel_4636/82022396.py\u001b[0m in \u001b[0;36m<module>\u001b[1;34m\u001b[0m\n\u001b[0;32m      5\u001b[0m         \u001b[0mprint\u001b[0m\u001b[1;33m(\u001b[0m\u001b[0mx\u001b[0m\u001b[1;33m)\u001b[0m\u001b[1;33m\u001b[0m\u001b[1;33m\u001b[0m\u001b[0m\n\u001b[0;32m      6\u001b[0m \u001b[1;33m\u001b[0m\u001b[0m\n\u001b[1;32m----> 7\u001b[1;33m \u001b[0mshowData\u001b[0m\u001b[1;33m(\u001b[0m\u001b[1;34m\"IND\"\u001b[0m\u001b[1;33m)\u001b[0m\u001b[1;33m\u001b[0m\u001b[1;33m\u001b[0m\u001b[0m\n\u001b[0m",
      "\u001b[1;32m~\\AppData\\Local\\Temp/ipykernel_4636/82022396.py\u001b[0m in \u001b[0;36mshowData\u001b[1;34m(country_Name)\u001b[0m\n\u001b[0;32m      1\u001b[0m \u001b[1;32mdef\u001b[0m \u001b[0mshowData\u001b[0m\u001b[1;33m(\u001b[0m\u001b[0mcountry_Name\u001b[0m\u001b[1;33m)\u001b[0m\u001b[1;33m:\u001b[0m\u001b[1;33m\u001b[0m\u001b[1;33m\u001b[0m\u001b[0m\n\u001b[0;32m      2\u001b[0m     \u001b[0m_fetchdata\u001b[0m \u001b[1;33m=\u001b[0m \u001b[1;34m\"SELECT * FROM hospital.patients where country = ?\"\u001b[0m\u001b[1;33m,\u001b[0m \u001b[0mcountry_Name\u001b[0m\u001b[1;33m\u001b[0m\u001b[1;33m\u001b[0m\u001b[0m\n\u001b[1;32m----> 3\u001b[1;33m     \u001b[0mcursor\u001b[0m\u001b[1;33m.\u001b[0m\u001b[0mexecute\u001b[0m\u001b[1;33m(\u001b[0m\u001b[0m_fetchdata\u001b[0m\u001b[1;33m)\u001b[0m\u001b[1;33m\u001b[0m\u001b[1;33m\u001b[0m\u001b[0m\n\u001b[0m\u001b[0;32m      4\u001b[0m     \u001b[1;32mfor\u001b[0m \u001b[0mx\u001b[0m \u001b[1;32min\u001b[0m \u001b[0mcursor\u001b[0m\u001b[1;33m:\u001b[0m\u001b[1;33m\u001b[0m\u001b[1;33m\u001b[0m\u001b[0m\n\u001b[0;32m      5\u001b[0m         \u001b[0mprint\u001b[0m\u001b[1;33m(\u001b[0m\u001b[0mx\u001b[0m\u001b[1;33m)\u001b[0m\u001b[1;33m\u001b[0m\u001b[1;33m\u001b[0m\u001b[0m\n",
      "\u001b[1;32mc:\\users\\sayal\\appdata\\local\\programs\\python\\python37\\lib\\site-packages\\mysql\\connector\\cursor_cext.py\u001b[0m in \u001b[0;36mexecute\u001b[1;34m(self, operation, params, multi)\u001b[0m\n\u001b[0;32m    269\u001b[0m             result = self._cnx.cmd_query(stmt, raw=self._raw,\n\u001b[0;32m    270\u001b[0m                                          \u001b[0mbuffered\u001b[0m\u001b[1;33m=\u001b[0m\u001b[0mself\u001b[0m\u001b[1;33m.\u001b[0m\u001b[0m_buffered\u001b[0m\u001b[1;33m,\u001b[0m\u001b[1;33m\u001b[0m\u001b[1;33m\u001b[0m\u001b[0m\n\u001b[1;32m--> 271\u001b[1;33m                                          raw_as_string=self._raw_as_string)\n\u001b[0m\u001b[0;32m    272\u001b[0m         \u001b[1;32mexcept\u001b[0m \u001b[0mMySQLInterfaceError\u001b[0m \u001b[1;32mas\u001b[0m \u001b[0mexc\u001b[0m\u001b[1;33m:\u001b[0m\u001b[1;33m\u001b[0m\u001b[1;33m\u001b[0m\u001b[0m\n\u001b[0;32m    273\u001b[0m             raise errors.get_mysql_exception(msg=exc.msg, errno=exc.errno,\n",
      "\u001b[1;32mc:\\users\\sayal\\appdata\\local\\programs\\python\\python37\\lib\\site-packages\\mysql\\connector\\connection_cext.py\u001b[0m in \u001b[0;36mcmd_query\u001b[1;34m(self, query, raw, buffered, raw_as_string)\u001b[0m\n\u001b[0;32m    527\u001b[0m                 \u001b[0maddr\u001b[0m \u001b[1;33m=\u001b[0m \u001b[0mself\u001b[0m\u001b[1;33m.\u001b[0m\u001b[0m_host\u001b[0m \u001b[1;33m+\u001b[0m \u001b[1;34m':'\u001b[0m \u001b[1;33m+\u001b[0m \u001b[0mstr\u001b[0m\u001b[1;33m(\u001b[0m\u001b[0mself\u001b[0m\u001b[1;33m.\u001b[0m\u001b[0m_port\u001b[0m\u001b[1;33m)\u001b[0m\u001b[1;33m\u001b[0m\u001b[1;33m\u001b[0m\u001b[0m\n\u001b[0;32m    528\u001b[0m             raise errors.OperationalError(\n\u001b[1;32m--> 529\u001b[1;33m                 errno=2055, values=(addr, 'Connection not available.'))\n\u001b[0m\u001b[0;32m    530\u001b[0m \u001b[1;33m\u001b[0m\u001b[0m\n\u001b[0;32m    531\u001b[0m         \u001b[0mself\u001b[0m\u001b[1;33m.\u001b[0m\u001b[0m_columns\u001b[0m \u001b[1;33m=\u001b[0m \u001b[1;33m[\u001b[0m\u001b[1;33m]\u001b[0m\u001b[1;33m\u001b[0m\u001b[1;33m\u001b[0m\u001b[0m\n",
      "\u001b[1;31mOperationalError\u001b[0m: 2055: Lost connection to MySQL server at 'localhost:3306', system error: Connection not available."
     ]
    }
   ],
   "source": [
    "def showData(country_Name):\n",
    "    _fetchdata = \"SELECT * FROM hospital.patients where country = ?\", country_Name\n",
    "    cursor.execute(_fetchdata)\n",
    "    for x in cursor:\n",
    "        print(x)\n",
    "        \n",
    "showData(\"IND\")"
   ]
  },
  {
   "cell_type": "raw",
   "id": "1a3ff6ba",
   "metadata": {},
   "source": [
    "SHOW CREATE TABLE mydatabase.mytable;"
   ]
  }
 ],
 "metadata": {
  "kernelspec": {
   "display_name": "Python 3 (ipykernel)",
   "language": "python",
   "name": "python3"
  },
  "language_info": {
   "codemirror_mode": {
    "name": "ipython",
    "version": 3
   },
   "file_extension": ".py",
   "mimetype": "text/x-python",
   "name": "python",
   "nbconvert_exporter": "python",
   "pygments_lexer": "ipython3",
   "version": "3.7.9"
  }
 },
 "nbformat": 4,
 "nbformat_minor": 5
}

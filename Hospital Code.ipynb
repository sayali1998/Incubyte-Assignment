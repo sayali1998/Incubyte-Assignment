{
 "cells": [
  {
   "cell_type": "markdown",
   "id": "456c6523",
   "metadata": {},
   "source": [
    "## Import required Libraries"
   ]
  },
  {
   "cell_type": "code",
   "execution_count": 1,
   "id": "61c7e0eb",
   "metadata": {},
   "outputs": [],
   "source": [
    "import mysql.connector\n",
    "import pandas as pd"
   ]
  },
  {
   "cell_type": "markdown",
   "id": "f3c25b42",
   "metadata": {},
   "source": [
    "## Establish Database Connection"
   ]
  },
  {
   "cell_type": "code",
   "execution_count": 2,
   "id": "3d15f8ec",
   "metadata": {},
   "outputs": [],
   "source": [
    "mydb = mysql.connector.connect(\n",
    "    host = \"localhost\",\n",
    "    user = \"incubyte\",\n",
    "    password = \"123456\"\n",
    ")"
   ]
  },
  {
   "cell_type": "markdown",
   "id": "752eef10",
   "metadata": {},
   "source": [
    "## Load Data if the database exists or Create new Database"
   ]
  },
  {
   "cell_type": "code",
   "execution_count": 3,
   "id": "83ce72db",
   "metadata": {},
   "outputs": [
    {
     "name": "stdout",
     "output_type": "stream",
     "text": [
      "All existing database: [('hospital',), ('information_schema',), ('mysql',), ('performance_schema',), ('sakila',), ('sys',), ('world',)]\n"
     ]
    }
   ],
   "source": [
    "cursor = mydb.cursor(buffered=True)\n",
    "\n",
    "database = \"hospital\"\n",
    "_SQL = \"\"\"SHOW DATABASES\"\"\"\n",
    "cursor.execute(_SQL)\n",
    "results = cursor.fetchall()\n",
    "\n",
    "print('All existing database:', results)\n",
    "\n",
    "results_list = [item[0] for item in results] \n",
    "\n",
    "if database not in results_list:\n",
    "    _createDatabase = \"CREATE DATABASE hospital\"\n",
    "    cursor.execute(_createDatabase)\n",
    "    _createTable = \"CREATE TABLE hospital.patients (Name varchar(255) NOT NULL, cust_ID varchar(18) NOT NULL PRIMARY KEY,open_dt date NOT NULL,last_dt date NOT NULL,vacc_type char(5),doctor_con char(225),state char(5),country char(5),dob date,active_cust char(1))\"\n",
    "    cursor.execute(_createTable)\n",
    "source_data = pd.read_csv(\"Patients_Source.csv\")\n",
    "sql = \"INSERT INTO hospital.patients (Name, cust_ID,open_dt,last_dt,vacc_type,doctor_con,state,country,dob,active_cust) VALUES (%s, %s,%s, %s,%s, %s,%s, %s,%s, %s)\"\n",
    "for index, row in source_data.iterrows():\n",
    "    val = (row['Name'],row['Cust_I'],row['Open_Dt'],row['Consul_dt'],row['Vacc_ID'],row['DR_Name'],row['State'],row['Country'],row['DOB'],row['Is_Active'])\n",
    "    cursor.execute(sql, val)\n",
    "    mydb.commit()"
   ]
  },
  {
   "cell_type": "code",
   "execution_count": 4,
   "id": "d9784e90",
   "metadata": {},
   "outputs": [],
   "source": [
    "cursor.execute(\"Select * from hospital.patients\")"
   ]
  },
  {
   "cell_type": "markdown",
   "id": "9dae9fc5",
   "metadata": {},
   "source": [
    "## Printing data "
   ]
  },
  {
   "cell_type": "code",
   "execution_count": 5,
   "id": "a679abb8",
   "metadata": {},
   "outputs": [
    {
     "name": "stdout",
     "output_type": "stream",
     "text": [
      "('Sayali Patil', '123456', datetime.date(2021, 11, 8), datetime.date(2021, 9, 11), 'MVD', 'Paul', 'H', 'IND', datetime.date(1998, 3, 31), 'A')\n",
      "('Shantanu Ghar', '123457', datetime.date(2021, 10, 14), datetime.date(2021, 10, 15), 'MVD', 'Naik', 'C', 'USA', datetime.date(1998, 11, 11), 'A')\n",
      "('Mathew', '123684', datetime.date(2021, 6, 11), datetime.date(2021, 6, 12), 'MVD', 'Naik', 'MH', 'IND', datetime.date(1997, 2, 3), 'N')\n",
      "('Janhavi dubule', '129867', datetime.date(2021, 6, 11), datetime.date(2021, 6, 12), 'MVD', 'Paul', 'T', 'AU', datetime.date(1998, 10, 10), 'A')\n",
      "('Sumeet Hande', '154323', datetime.date(2021, 9, 16), datetime.date(2021, 9, 17), 'MVD', 'Vedant', 'WB', 'IND', datetime.date(1997, 2, 3), 'N')\n",
      "('Shubham Konkane', '165989', datetime.date(2021, 8, 7), datetime.date(2021, 8, 8), 'MVD', 'Paul', 'K', 'IND', datetime.date(1997, 6, 12), 'N')\n",
      "('Venkhatesh Arunachalam', '178945', datetime.date(2021, 9, 23), datetime.date(2021, 9, 24), 'MVD', 'Benjimin', 'NSW', 'AU', datetime.date(1999, 1, 29), 'A')\n",
      "('Matt', '216359', datetime.date(2021, 6, 11), datetime.date(2021, 6, 12), 'MVD', 'Benjimin', 'L', 'UK', datetime.date(1998, 9, 9), 'N')\n",
      "('Alex', '254699', datetime.date(2021, 6, 11), datetime.date(2021, 6, 12), 'MVD', 'Paul', 'L', 'UK', datetime.date(1997, 2, 3), 'N')\n",
      "('Jacob', '268916', datetime.date(2021, 6, 11), datetime.date(2021, 6, 12), 'MVD', 'Paul', 'V', 'AU', datetime.date(1998, 11, 11), 'N')\n",
      "('John', '356811', datetime.date(2021, 6, 11), datetime.date(2021, 6, 12), 'MVD', 'Vedant', 'AP', 'IND', datetime.date(1998, 11, 11), 'A')\n",
      "('Aaditya Gurav', '659816', datetime.date(2021, 6, 11), datetime.date(2021, 6, 12), 'MVD', 'Naik', 'FL', 'USA', datetime.date(1998, 4, 9), 'N')\n"
     ]
    }
   ],
   "source": [
    "for patient_details in cursor:\n",
    "    print(patient_details)"
   ]
  },
  {
   "cell_type": "markdown",
   "id": "18a8f6a5",
   "metadata": {},
   "source": [
    "## Function to Filter Data according to the Country Specified"
   ]
  },
  {
   "cell_type": "code",
   "execution_count": 6,
   "id": "080f17f2",
   "metadata": {},
   "outputs": [],
   "source": [
    "def filterData(country_Name):\n",
    "    _fetchdata = \"SELECT * FROM hospital.patients where country = \" + \"'\" +country_Name+\"'\"\n",
    "    cursor.execute(_fetchdata)\n",
    "    for x in cursor:\n",
    "        print(x)"
   ]
  },
  {
   "cell_type": "markdown",
   "id": "c7043696",
   "metadata": {},
   "source": [
    "## Save Data in CSV format"
   ]
  },
  {
   "cell_type": "code",
   "execution_count": 7,
   "id": "1a8c3edd",
   "metadata": {},
   "outputs": [],
   "source": [
    "data_saved = pd.DataFrame(columns = [\"Name\",\"Cust_ID\",\"Open_dt\",\"Consul_dt\",\"Vacc_type\",\"Doc_Name\",\"State\",\"Country\", \"DOB\", \"Is_Active\"])\n",
    "def saveData(country_Name):\n",
    "    _fetchdata = \"SELECT * FROM hospital.patients where country = \" + \"'\" +country_Name+\"'\"\n",
    "    cursor.execute(_fetchdata)\n",
    "    country_data = pd.DataFrame(cursor.fetchall(),columns =  [\"Name\",\"Cust_ID\",\"Open_dt\",\"Consul_dt\",\"Vacc_type\",\"Doc_Name\",\"State\",\"Country\", \"DOB\", \"Is_Active\"])\n",
    "    country_data.to_csv('C:/Users/sayal/Desktop/Incubyte Assignment/incubyte-Assignment/Results/' + country_Name + \".csv\")\n",
    "    data_saved = pd.read_csv('C:/Users/sayal/Desktop/Incubyte Assignment/incubyte-Assignment/Results/'+country_Name+\".csv\")\n",
    "    print(data_saved)"
   ]
  },
  {
   "cell_type": "code",
   "execution_count": 8,
   "id": "4dbb43f5",
   "metadata": {},
   "outputs": [
    {
     "name": "stdout",
     "output_type": "stream",
     "text": [
      "('Sayali Patil', '123456', datetime.date(2021, 11, 8), datetime.date(2021, 9, 11), 'MVD', 'Paul', 'H', 'IND', datetime.date(1998, 3, 31), 'A')\n",
      "('Mathew', '123684', datetime.date(2021, 6, 11), datetime.date(2021, 6, 12), 'MVD', 'Naik', 'MH', 'IND', datetime.date(1997, 2, 3), 'N')\n",
      "('Sumeet Hande', '154323', datetime.date(2021, 9, 16), datetime.date(2021, 9, 17), 'MVD', 'Vedant', 'WB', 'IND', datetime.date(1997, 2, 3), 'N')\n",
      "('Shubham Konkane', '165989', datetime.date(2021, 8, 7), datetime.date(2021, 8, 8), 'MVD', 'Paul', 'K', 'IND', datetime.date(1997, 6, 12), 'N')\n",
      "('John', '356811', datetime.date(2021, 6, 11), datetime.date(2021, 6, 12), 'MVD', 'Vedant', 'AP', 'IND', datetime.date(1998, 11, 11), 'A')\n",
      "   Unnamed: 0             Name  Cust_ID     Open_dt   Consul_dt Vacc_type  \\\n",
      "0           0     Sayali Patil   123456  2021-11-08  2021-09-11       MVD   \n",
      "1           1           Mathew   123684  2021-06-11  2021-06-12       MVD   \n",
      "2           2     Sumeet Hande   154323  2021-09-16  2021-09-17       MVD   \n",
      "3           3  Shubham Konkane   165989  2021-08-07  2021-08-08       MVD   \n",
      "4           4             John   356811  2021-06-11  2021-06-12       MVD   \n",
      "\n",
      "  Doc_Name State Country         DOB Is_Active  \n",
      "0     Paul     H     IND  1998-03-31         A  \n",
      "1     Naik    MH     IND  1997-02-03         N  \n",
      "2   Vedant    WB     IND  1997-02-03         N  \n",
      "3     Paul     K     IND  1997-06-12         N  \n",
      "4   Vedant    AP     IND  1998-11-11         A  \n"
     ]
    }
   ],
   "source": [
    "filterData(\"IND\")\n",
    "saveData(\"IND\")"
   ]
  },
  {
   "cell_type": "code",
   "execution_count": 9,
   "id": "849d2335",
   "metadata": {},
   "outputs": [
    {
     "name": "stdout",
     "output_type": "stream",
     "text": [
      "('Matt', '216359', datetime.date(2021, 6, 11), datetime.date(2021, 6, 12), 'MVD', 'Benjimin', 'L', 'UK', datetime.date(1998, 9, 9), 'N')\n",
      "('Alex', '254699', datetime.date(2021, 6, 11), datetime.date(2021, 6, 12), 'MVD', 'Paul', 'L', 'UK', datetime.date(1997, 2, 3), 'N')\n",
      "   Unnamed: 0  Name  Cust_ID     Open_dt   Consul_dt Vacc_type  Doc_Name  \\\n",
      "0           0  Matt   216359  2021-06-11  2021-06-12       MVD  Benjimin   \n",
      "1           1  Alex   254699  2021-06-11  2021-06-12       MVD      Paul   \n",
      "\n",
      "  State Country         DOB Is_Active  \n",
      "0     L      UK  1998-09-09         N  \n",
      "1     L      UK  1997-02-03         N  \n"
     ]
    }
   ],
   "source": [
    "filterData(\"UK\")\n",
    "saveData(\"UK\")"
   ]
  },
  {
   "cell_type": "code",
   "execution_count": 10,
   "id": "cb586635",
   "metadata": {},
   "outputs": [
    {
     "name": "stdout",
     "output_type": "stream",
     "text": [
      "('Shantanu Ghar', '123457', datetime.date(2021, 10, 14), datetime.date(2021, 10, 15), 'MVD', 'Naik', 'C', 'USA', datetime.date(1998, 11, 11), 'A')\n",
      "('Aaditya Gurav', '659816', datetime.date(2021, 6, 11), datetime.date(2021, 6, 12), 'MVD', 'Naik', 'FL', 'USA', datetime.date(1998, 4, 9), 'N')\n",
      "   Unnamed: 0           Name  Cust_ID     Open_dt   Consul_dt Vacc_type  \\\n",
      "0           0  Shantanu Ghar   123457  2021-10-14  2021-10-15       MVD   \n",
      "1           1  Aaditya Gurav   659816  2021-06-11  2021-06-12       MVD   \n",
      "\n",
      "  Doc_Name State Country         DOB Is_Active  \n",
      "0     Naik     C     USA  1998-11-11         A  \n",
      "1     Naik    FL     USA  1998-04-09         N  \n"
     ]
    }
   ],
   "source": [
    "filterData(\"USA\")\n",
    "saveData(\"USA\")"
   ]
  },
  {
   "cell_type": "code",
   "execution_count": 11,
   "id": "1c06383f",
   "metadata": {},
   "outputs": [
    {
     "name": "stdout",
     "output_type": "stream",
     "text": [
      "('Janhavi dubule', '129867', datetime.date(2021, 6, 11), datetime.date(2021, 6, 12), 'MVD', 'Paul', 'T', 'AU', datetime.date(1998, 10, 10), 'A')\n",
      "('Venkhatesh Arunachalam', '178945', datetime.date(2021, 9, 23), datetime.date(2021, 9, 24), 'MVD', 'Benjimin', 'NSW', 'AU', datetime.date(1999, 1, 29), 'A')\n",
      "('Jacob', '268916', datetime.date(2021, 6, 11), datetime.date(2021, 6, 12), 'MVD', 'Paul', 'V', 'AU', datetime.date(1998, 11, 11), 'N')\n",
      "   Unnamed: 0                    Name  Cust_ID     Open_dt   Consul_dt  \\\n",
      "0           0          Janhavi dubule   129867  2021-06-11  2021-06-12   \n",
      "1           1  Venkhatesh Arunachalam   178945  2021-09-23  2021-09-24   \n",
      "2           2                   Jacob   268916  2021-06-11  2021-06-12   \n",
      "\n",
      "  Vacc_type  Doc_Name State Country         DOB Is_Active  \n",
      "0       MVD      Paul     T      AU  1998-10-10         A  \n",
      "1       MVD  Benjimin   NSW      AU  1999-01-29         A  \n",
      "2       MVD      Paul     V      AU  1998-11-11         N  \n"
     ]
    }
   ],
   "source": [
    "filterData(\"AU\")\n",
    "saveData(\"AU\")"
   ]
  },
  {
   "cell_type": "code",
   "execution_count": null,
   "id": "b7a024a0",
   "metadata": {},
   "outputs": [],
   "source": []
  }
 ],
 "metadata": {
  "kernelspec": {
   "display_name": "Python 3 (ipykernel)",
   "language": "python",
   "name": "python3"
  },
  "language_info": {
   "codemirror_mode": {
    "name": "ipython",
    "version": 3
   },
   "file_extension": ".py",
   "mimetype": "text/x-python",
   "name": "python",
   "nbconvert_exporter": "python",
   "pygments_lexer": "ipython3",
   "version": "3.7.9"
  }
 },
 "nbformat": 4,
 "nbformat_minor": 5
}
